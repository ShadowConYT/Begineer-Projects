{
 "cells": [
  {
   "cell_type": "code",
   "execution_count": 1,
   "metadata": {},
   "outputs": [
    {
     "name": "stderr",
     "output_type": "stream",
     "text": [
      "c:\\Users\\iamaj\\AppData\\Local\\Programs\\Python\\Python311\\Lib\\site-packages\\tqdm\\auto.py:21: TqdmWarning: IProgress not found. Please update jupyter and ipywidgets. See https://ipywidgets.readthedocs.io/en/stable/user_install.html\n",
      "  from .autonotebook import tqdm as notebook_tqdm\n"
     ]
    }
   ],
   "source": [
    "import google.generativeai as genai\n",
    "import pathlib\n",
    "import textwrap\n",
    "import os\n",
    "from dotenv import load_dotenv"
   ]
  },
  {
   "cell_type": "code",
   "execution_count": 2,
   "metadata": {},
   "outputs": [],
   "source": [
    "load_dotenv()\n",
    "\n",
    "# Set up the environment\n",
    "api_key = os.getenv('API_KEY')"
   ]
  },
  {
   "cell_type": "code",
   "execution_count": 3,
   "metadata": {},
   "outputs": [],
   "source": [
    "genai.configure(api_key=api_key)"
   ]
  },
  {
   "cell_type": "code",
   "execution_count": 4,
   "metadata": {},
   "outputs": [
    {
     "name": "stdout",
     "output_type": "stream",
     "text": [
      "models/gemini-pro\n",
      "models/gemini-pro-vision\n"
     ]
    }
   ],
   "source": [
    "for m in genai.list_models():\n",
    "    if 'generateContent' in m.supported_generation_methods:\n",
    "        print(m.name)"
   ]
  },
  {
   "cell_type": "code",
   "execution_count": 15,
   "metadata": {},
   "outputs": [
    {
     "name": "stdout",
     "output_type": "stream",
     "text": [
      "CPU times: total: 0 ns\n",
      "Wall time: 0 ns\n"
     ]
    }
   ],
   "source": [
    "mode = genai.GenerativeModel('gemini-pro')\n",
    "%time\n",
    "resp = mode.generate_content(\"How to Pass University Exam Without studying I have 2 hrs left for my Exam\", stream=True)"
   ]
  },
  {
   "cell_type": "code",
   "execution_count": 23,
   "metadata": {},
   "outputs": [
    {
     "name": "stdout",
     "output_type": "stream",
     "text": [
      "1. **Quickly Review Key Concepts:** If you have done any studying leading up\n",
      " to the exam, focus on quickly reviewing the most important concepts and formulas. Utilize a study sheet, PowerPoint presentation, or lecture notes to refresh your memory on key\n",
      " points.\n",
      "\n",
      "2. **Skim Through Textbooks:** If you have textbooks, skim through sections related to the exam topics. Concentrate on headings, subheadings, and any highlighted or bold text. This helps you zero in on essential information quickly.\n",
      "\n",
      "3. **Solve Practice Problems:** If practice problems or previous exam\n",
      " questions are available, solve a few under timed conditions. This helps you gauge your understanding and spot areas that need more attention.\n",
      "\n",
      "4. **Use Mnemonic Devices:** Memorize essential terms or concepts using memory tricks like acronyms, rhymes, or mind maps. These can help you recall information efficiently.\n",
      "\n",
      "5. **Leverage Last-Minute Learning Techniques:** Use techniques like active recall, where you try to recall information from memory without looking at your notes, to improve retention.\n",
      "\n",
      "6. **Manage Your Time Wisely:** Create a structured plan for the exam. Calculate how much time you can realistically spend on each question or section.\n",
      " Stick to your plan to avoid wasting time on questions you don't know.\n",
      "\n",
      "7. **Prioritize Questions:** Tackle questions you are most confident about first. If you get stuck, move on to another question and come back to it later. This ensures you allocate time efficiently.\n",
      "\n",
      "8. **Don't Panic:** Stay calm and focused during the exam. Panicking can lead to mental blocks and errors. Take deep breaths, read questions carefully, and double-check your answers before moving on.\n",
      "\n",
      "9. **Make Educated Guesses:** If you don't know the answer to a question, make an educated guess based on your understanding of related concepts. Eliminate options that are clearly incorrect first.\n",
      "\n",
      "10. **Pay Attention to Instructions:** Read the exam instructions carefully. Make sure you understand the grading scheme, the number of questions, and any specific rules or restrictions.\n"
     ]
    }
   ],
   "source": [
    "for chunk in resp:\n",
    "    print(chunk.text)"
   ]
  },
  {
   "cell_type": "code",
   "execution_count": 25,
   "metadata": {},
   "outputs": [
    {
     "data": {
      "text/markdown": [
       "1. **Quickly Review Key Concepts:** If you have done any studying leading up to the exam, focus on quickly reviewing the most important concepts and formulas. Utilize a study sheet, PowerPoint presentation, or lecture notes to refresh your memory on key points.\n",
       "\n",
       "2. **Skim Through Textbooks:** If you have textbooks, skim through sections related to the exam topics. Concentrate on headings, subheadings, and any highlighted or bold text. This helps you zero in on essential information quickly.\n",
       "\n",
       "3. **Solve Practice Problems:** If practice problems or previous exam questions are available, solve a few under timed conditions. This helps you gauge your understanding and spot areas that need more attention.\n",
       "\n",
       "4. **Use Mnemonic Devices:** Memorize essential terms or concepts using memory tricks like acronyms, rhymes, or mind maps. These can help you recall information efficiently.\n",
       "\n",
       "5. **Leverage Last-Minute Learning Techniques:** Use techniques like active recall, where you try to recall information from memory without looking at your notes, to improve retention.\n",
       "\n",
       "6. **Manage Your Time Wisely:** Create a structured plan for the exam. Calculate how much time you can realistically spend on each question or section. Stick to your plan to avoid wasting time on questions you don't know.\n",
       "\n",
       "7. **Prioritize Questions:** Tackle questions you are most confident about first. If you get stuck, move on to another question and come back to it later. This ensures you allocate time efficiently.\n",
       "\n",
       "8. **Don't Panic:** Stay calm and focused during the exam. Panicking can lead to mental blocks and errors. Take deep breaths, read questions carefully, and double-check your answers before moving on.\n",
       "\n",
       "9. **Make Educated Guesses:** If you don't know the answer to a question, make an educated guess based on your understanding of related concepts. Eliminate options that are clearly incorrect first.\n",
       "\n",
       "10. **Pay Attention to Instructions:** Read the exam instructions carefully. Make sure you understand the grading scheme, the number of questions, and any specific rules or restrictions."
      ],
      "text/plain": [
       "<IPython.core.display.Markdown object>"
      ]
     },
     "execution_count": 25,
     "metadata": {},
     "output_type": "execute_result"
    }
   ],
   "source": [
    "from IPython.display import Markdown\n",
    "Markdown(resp.text)"
   ]
  }
 ],
 "metadata": {
  "kernelspec": {
   "display_name": "Python 3",
   "language": "python",
   "name": "python3"
  },
  "language_info": {
   "codemirror_mode": {
    "name": "ipython",
    "version": 3
   },
   "file_extension": ".py",
   "mimetype": "text/x-python",
   "name": "python",
   "nbconvert_exporter": "python",
   "pygments_lexer": "ipython3",
   "version": "3.11.6"
  }
 },
 "nbformat": 4,
 "nbformat_minor": 2
}
