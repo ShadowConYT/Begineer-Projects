{
 "cells": [
  {
   "cell_type": "code",
   "execution_count": 2,
   "metadata": {},
   "outputs": [],
   "source": [
    "import google.generativeai as genai\n",
    "import pathlib\n",
    "import textwrap\n",
    "import os\n",
    "from dotenv import load_dotenv"
   ]
  },
  {
   "cell_type": "code",
   "execution_count": 10,
   "metadata": {},
   "outputs": [],
   "source": [
    "load_dotenv()\n",
    "\n",
    "# Set up the environment\n",
    "api_key = os.getenv('API_KEY')"
   ]
  },
  {
   "cell_type": "code",
   "execution_count": 11,
   "metadata": {},
   "outputs": [],
   "source": [
    "genai.configure(api_key=api_key)"
   ]
  },
  {
   "cell_type": "code",
   "execution_count": 13,
   "metadata": {},
   "outputs": [
    {
     "name": "stdout",
     "output_type": "stream",
     "text": [
      "models/gemini-pro\n",
      "models/gemini-pro-vision\n"
     ]
    }
   ],
   "source": [
    "for m in genai.list_models():\n",
    "    if 'generateContent' in m.supported_generation_methods:\n",
    "        print(m.name)"
   ]
  },
  {
   "cell_type": "code",
   "execution_count": 30,
   "metadata": {},
   "outputs": [
    {
     "name": "stdout",
     "output_type": "stream",
     "text": [
      "CPU times: total: 0 ns\n",
      "Wall time: 0 ns\n",
      "Love is a complex and multifaceted emotion that has been the subject of much debate and\n",
      " discussion throughout history. It is often described as a feeling of deep affection and care for another person, and can be expressed in a variety of ways, including physical\n",
      " touch, verbal expressions, and acts of service.\n",
      "\n",
      "One of the most common ways to define love is as a feeling of intense attraction and desire for another person. This type of love is often associated with romantic relationships, and is characterized by feelings of passion, excitement, and longing. However, love can also be defined\n",
      " as a feeling of deep affection and care for another person, regardless of whether or not there is a romantic or sexual relationship. This type of love is often found in family relationships, friendships, and other close bonds.\n",
      "\n",
      "Regardless of how it is defined, love is a powerful emotion that can have a profound impact on our lives. It can motivate us to act in ways that we would not otherwise, and can help us to feel connected to others and to the world around us. Love can also be a source of great joy and happiness, and can help us to cope with difficult times.\n",
      "\n",
      "There are many different theories about the nature of\n",
      " love. Some believe that love is a biological phenomenon, driven by hormones and other chemicals in the brain. Others believe that love is a learned behavior, shaped by our experiences with others. Still others believe that love is a spiritual force, or a gift from God.\n",
      "\n",
      "Ultimately, there is no one definitive answer to the question of what love is. However, by exploring the different ways that we experience and express love, we can come to a deeper understanding of this complex and powerful emotion.\n",
      "\n",
      "Here are some of the key characteristics of love:\n",
      "\n",
      "* **Passion:** A feeling of intense attraction and desire for another person.\n",
      "* **Intimacy:** A feeling of closeness and connection with another person.\n",
      "* **Commitment:** A willingness to stay with another person through good times and bad.\n",
      "* **Trust:** A belief that another person is reliable and trustworthy.\n",
      "* **Respect:** A feeling of admiration and regard for another person.\n",
      "* **Care:** A feeling of concern and protectiveness for another person.\n",
      "* **Empathy:** The ability to understand and share the feelings of another person.\n",
      "* **Forgiveness:** The ability to forgive another person for their mistakes.\n",
      "* **Acceptance:** The ability to accept another person for who they are, flaws\n",
      " and all.\n",
      "\n",
      "True love is a rare and precious gift, and it is something that should be cherished. If you are lucky enough to find true love, hold on to it tightly. It is one of the most important and rewarding experiences that life has to offer.\n"
     ]
    }
   ],
   "source": [
    "mode = genai.GenerativeModel('gemini-pro')\n",
    "\n",
    "%time\n",
    "resp = mode.generate_content(\"Love\", stream=True)\n",
    "\n",
    "for chunk in resp:\n",
    "    print(chunk.text)"
   ]
  },
  {
   "cell_type": "code",
   "execution_count": 31,
   "metadata": {},
   "outputs": [
    {
     "data": {
      "text/markdown": [
       "Love is a complex and multifaceted emotion that has been the subject of much debate and discussion throughout history. It is often described as a feeling of deep affection and care for another person, and can be expressed in a variety of ways, including physical touch, verbal expressions, and acts of service.\n",
       "\n",
       "One of the most common ways to define love is as a feeling of intense attraction and desire for another person. This type of love is often associated with romantic relationships, and is characterized by feelings of passion, excitement, and longing. However, love can also be defined as a feeling of deep affection and care for another person, regardless of whether or not there is a romantic or sexual relationship. This type of love is often found in family relationships, friendships, and other close bonds.\n",
       "\n",
       "Regardless of how it is defined, love is a powerful emotion that can have a profound impact on our lives. It can motivate us to act in ways that we would not otherwise, and can help us to feel connected to others and to the world around us. Love can also be a source of great joy and happiness, and can help us to cope with difficult times.\n",
       "\n",
       "There are many different theories about the nature of love. Some believe that love is a biological phenomenon, driven by hormones and other chemicals in the brain. Others believe that love is a learned behavior, shaped by our experiences with others. Still others believe that love is a spiritual force, or a gift from God.\n",
       "\n",
       "Ultimately, there is no one definitive answer to the question of what love is. However, by exploring the different ways that we experience and express love, we can come to a deeper understanding of this complex and powerful emotion.\n",
       "\n",
       "Here are some of the key characteristics of love:\n",
       "\n",
       "* **Passion:** A feeling of intense attraction and desire for another person.\n",
       "* **Intimacy:** A feeling of closeness and connection with another person.\n",
       "* **Commitment:** A willingness to stay with another person through good times and bad.\n",
       "* **Trust:** A belief that another person is reliable and trustworthy.\n",
       "* **Respect:** A feeling of admiration and regard for another person.\n",
       "* **Care:** A feeling of concern and protectiveness for another person.\n",
       "* **Empathy:** The ability to understand and share the feelings of another person.\n",
       "* **Forgiveness:** The ability to forgive another person for their mistakes.\n",
       "* **Acceptance:** The ability to accept another person for who they are, flaws and all.\n",
       "\n",
       "True love is a rare and precious gift, and it is something that should be cherished. If you are lucky enough to find true love, hold on to it tightly. It is one of the most important and rewarding experiences that life has to offer."
      ],
      "text/plain": [
       "<IPython.core.display.Markdown object>"
      ]
     },
     "execution_count": 31,
     "metadata": {},
     "output_type": "execute_result"
    }
   ],
   "source": [
    "from IPython.display import Markdown\n",
    "\n",
    "Markdown(resp.text)"
   ]
  }
 ],
 "metadata": {
  "kernelspec": {
   "display_name": "Python 3",
   "language": "python",
   "name": "python3"
  },
  "language_info": {
   "codemirror_mode": {
    "name": "ipython",
    "version": 3
   },
   "file_extension": ".py",
   "mimetype": "text/x-python",
   "name": "python",
   "nbconvert_exporter": "python",
   "pygments_lexer": "ipython3",
   "version": "3.11.6"
  }
 },
 "nbformat": 4,
 "nbformat_minor": 2
}
